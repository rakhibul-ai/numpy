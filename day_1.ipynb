{
 "cells": [
  {
   "cell_type": "markdown",
   "id": "70a7e8cf-7f78-4323-87f3-31c2389d9a20",
   "metadata": {},
   "source": [
    "## NumPy Array Basics\n",
    "### Creating Arrays"
   ]
  },
  {
   "cell_type": "code",
   "execution_count": 15,
   "id": "9095d130-ecf1-4cec-94f4-515ad45ed54a",
   "metadata": {},
   "outputs": [
    {
     "name": "stdout",
     "output_type": "stream",
     "text": [
      "[2 3 4 5]\n",
      "1\n",
      "(4,)\n",
      "4\n",
      "int64\n"
     ]
    }
   ],
   "source": [
    "# 1D Array (Vector)\n",
    "import numpy as np\n",
    "arr_1 = np.array([2,3,4,5])\n",
    "print(arr_1)\n",
    "print(arr_1.ndim)\n",
    "print(arr_1.shape)\n",
    "print(arr_1.size)\n",
    "print(arr_1.dtype)"
   ]
  },
  {
   "cell_type": "code",
   "execution_count": 13,
   "id": "ee2ca34e-2e55-4079-96b0-5398c29dad4c",
   "metadata": {},
   "outputs": [
    {
     "name": "stdout",
     "output_type": "stream",
     "text": [
      "[[1 2 3]\n",
      " [4 5 6]]\n",
      "2\n",
      "(2, 3)\n",
      "6\n",
      "int64\n"
     ]
    }
   ],
   "source": [
    "# 2D Array (Matrix)\n",
    "arr_2 = np.array([[1,2,3], [4,5,6]])\n",
    "print(arr_2)\n",
    "print(arr_2.ndim)\n",
    "print(arr_2.shape)\n",
    "print(arr_2.size)\n",
    "print(arr_2.dtype)"
   ]
  },
  {
   "cell_type": "code",
   "execution_count": 16,
   "id": "d3428339-e98e-42b4-9a17-990fb8d419c4",
   "metadata": {},
   "outputs": [
    {
     "name": "stdout",
     "output_type": "stream",
     "text": [
      "[1 2 3]\n"
     ]
    }
   ],
   "source": [
    "# Type conversion\n",
    "arr = np.array([1.1, 2.2, 3.3])\n",
    "new_arr = arr.astype(int)\n",
    "print(new_arr)"
   ]
  },
  {
   "cell_type": "code",
   "execution_count": null,
   "id": "e532f4e9-0361-4580-bb86-ce0cbf15ed9f",
   "metadata": {},
   "outputs": [],
   "source": []
  },
  {
   "cell_type": "code",
   "execution_count": null,
   "id": "9a08cb35-bf8e-4d96-8728-49bdcf358b5d",
   "metadata": {},
   "outputs": [],
   "source": []
  },
  {
   "cell_type": "code",
   "execution_count": null,
   "id": "a17d3d89-1c71-47b5-9a4e-cfaec8145590",
   "metadata": {},
   "outputs": [],
   "source": []
  }
 ],
 "metadata": {
  "kernelspec": {
   "display_name": "Python 3 (ipykernel)",
   "language": "python",
   "name": "python3"
  },
  "language_info": {
   "codemirror_mode": {
    "name": "ipython",
    "version": 3
   },
   "file_extension": ".py",
   "mimetype": "text/x-python",
   "name": "python",
   "nbconvert_exporter": "python",
   "pygments_lexer": "ipython3",
   "version": "3.13.5"
  }
 },
 "nbformat": 4,
 "nbformat_minor": 5
}
